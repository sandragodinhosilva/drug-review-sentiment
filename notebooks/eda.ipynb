{
 "cells": [
  {
   "cell_type": "markdown",
   "id": "6892d234",
   "metadata": {},
   "source": [
    "## EDA - Exploratory Data Analysis of drug_review data"
   ]
  },
  {
   "cell_type": "code",
   "execution_count": null,
   "id": "8699bd2b",
   "metadata": {},
   "outputs": [],
   "source": [
    "# =====================\n",
    "# 1. Imports\n",
    "# =====================\n",
    "from datasets import load_dataset\n",
    "import pandas as pd\n",
    "import matplotlib.pyplot as plt\n",
    "import seaborn as sns"
   ]
  },
  {
   "cell_type": "code",
   "execution_count": null,
   "id": "c66a9cd4",
   "metadata": {},
   "outputs": [],
   "source": [
    "import kagglehub\n",
    "\n",
    "# Download latest version\n",
    "path = kagglehub.dataset_download(\"oladayoowoeye/drug-review-prediction-sentiment-analysis\")\n",
    "\n",
    "print(\"Path to dataset files:\", path)"
   ]
  }
 ],
 "metadata": {
  "kernelspec": {
   "display_name": ".venv",
   "language": "python",
   "name": "python3"
  },
  "language_info": {
   "name": "python",
   "version": "3.8.5"
  }
 },
 "nbformat": 4,
 "nbformat_minor": 5
}
