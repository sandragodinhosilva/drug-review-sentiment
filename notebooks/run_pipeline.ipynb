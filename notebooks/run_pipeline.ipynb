{
 "cells": [
  {
   "cell_type": "markdown",
   "id": "e544bef9",
   "metadata": {},
   "source": [
    "# Drug Review Sentiment — Updated Pipeline\n",
    "Centralized outputs in `results/` and parameterized training via `src/train_model.py`.\n"
   ]
  },
  {
   "cell_type": "code",
   "execution_count": null,
   "id": "6ac84112",
   "metadata": {},
   "outputs": [
    {
     "name": "stdout",
     "output_type": "stream",
     "text": [
      "CWD: /home/sandra/drug-review-sentiment\n"
     ]
    }
   ],
   "source": [
    "# Optional: Colab setup — uncomment if running in Colab\n",
    "# %pip install -U transformers datasets peft scikit-learn mlflow accelerate evaluate matplotlib seaborn kagglehub\n",
    "\n",
    "import os, sys, pathlib, mlflow\n",
    "import tensorboard\n",
    "# Auto-detect repo root: if launched from notebooks/, go one level up\n",
    "cwd = pathlib.Path().resolve()\n",
    "repo_root = cwd.parent if cwd.name == 'notebooks' else cwd\n",
    "os.chdir(repo_root)\n",
    "sys.path.insert(0, str(repo_root))\n",
    "print('CWD:', os.getcwd())\n",
    "\n",
    "os.makedirs('data', exist_ok=True)\n",
    "os.makedirs('results', exist_ok=True)\n",
    "\n",
    "# Ensure MLflow writes under results/mlruns regardless of where this notebook lives\n",
    "mlruns_path = os.path.abspath(os.path.join('results', 'mlruns'))\n",
    "os.makedirs(mlruns_path, exist_ok=True)\n",
    "mlflow_uri = f'file://{mlruns_path}'\n",
    "os.environ['MLFLOW_TRACKING_URI'] = mlflow_uri\n",
    "mlflow.set_tracking_uri(mlflow_uri)\n",
    "print('MLflow tracking URI:', mlflow.get_tracking_uri())\n"
   ]
  },
  {
   "cell_type": "code",
   "execution_count": 5,
   "id": "e84aea98",
   "metadata": {},
   "outputs": [
    {
     "name": "stdout",
     "output_type": "stream",
     "text": [
      "The tensorboard extension is already loaded. To reload it, use:\n",
      "  %reload_ext tensorboard\n",
      "CUDA available: False\n",
      "Device: CPU\n"
     ]
    }
   ],
   "source": [
    "# 1. Mount Google Drive (for saving models/results)\n",
    "#from google.colab import drive\n",
    "#drive.mount('/content/drive')\n",
    "\n",
    "# 2. Clone your GitHub repo\n",
    "#git clone https://github.com/sandragodinhosilva/drug-review-sentiment\n",
    "#%cd drug-review-sentiment\n",
    "\n",
    "# 3. Install dependencies\n",
    "# !pip install -r requirements.txt\n",
    "\n",
    "# 4. Tensorboard\n",
    "%load_ext tensorboard\n",
    "# %tensorboard --logdir /content/drive/MyDrive/biobert_project/biobert_logs\n",
    "\n",
    "# 5. Verify GPU availability\n",
    "import torch\n",
    "device = \"cuda\" if torch.cuda.is_available() else \"cpu\"\n",
    "print(\"CUDA available:\", torch.cuda.is_available())\n",
    "print(\"Device:\", torch.cuda.get_device_name(0) if torch.cuda.is_available() else \"CPU\")\n",
    "# print(\"Current device:\", torch.cuda.current_device())\n",
    "# print(\"Tensor test:\", torch.rand(3,3).cuda())\n",
    "\n",
    "\n",
    "# 5. "
   ]
  },
  {
   "cell_type": "code",
   "execution_count": null,
   "id": "7f8291bc",
   "metadata": {},
   "outputs": [],
   "source": [
    "# Parameters\n",
    "model = 'distilbert-base-uncased'  # or 'dmis-lab/biobert-base-cased-v1.1'\n",
    "subset_frac = 0.005  # use 0.0/None for full data\n",
    "epochs = 1\n",
    "batch_size = 16\n",
    "fp16 = True  # set False on CPU\n"
   ]
  },
  {
   "cell_type": "code",
   "execution_count": null,
   "id": "4f81e35a",
   "metadata": {},
   "outputs": [],
   "source": [
    "# Preflight: check data files exist and have expected columns\n",
    "import os, pandas as pd\n",
    "train_path='data/drugsComTrain_raw.tsv'\n",
    "test_path='data/drugsComTest_raw.tsv'\n",
    "ok=True\n",
    "for pth in [train_path, test_path]:\n",
    "    if not os.path.exists(pth):\n",
    "        print(f'MISSING: {pth}. Place the TSV in data/.')\n",
    "        ok=False\n",
    "    else:\n",
    "        sz=os.path.getsize(pth)\n",
    "        print(f'FOUND: {pth} ({sz/1e6:.1f} MB)')\n",
    "        try:\n",
    "            df=pd.read_csv(pth, sep='\\t', nrows=5)\n",
    "            print('Columns:', list(df.columns))\n",
    "            need={'review','rating'}\n",
    "            missing=need-set(df.columns)\n",
    "            if missing:\n",
    "                print(f'WARNING: missing expected columns: {missing}')\n",
    "        except Exception as e:\n",
    "            print(f'Could not read sample from {pth}:', e)\n",
    "print('Preflight OK' if ok else 'Preflight FAILED')\n"
   ]
  },
  {
   "cell_type": "code",
   "execution_count": null,
   "id": "9697ff75",
   "metadata": {},
   "outputs": [
    {
     "name": "stderr",
     "output_type": "stream",
     "text": [
      "2025-09-14 17:27:34 - my_app - INFO - Datasets loaded successfully.\n"
     ]
    },
    {
     "data": {
      "application/vnd.jupyter.widget-view+json": {
       "model_id": "9bebffbbcd0a4fafa766ee145a272084",
       "version_major": 2,
       "version_minor": 0
      },
      "text/plain": [
       "Map:   0%|          | 0/100 [00:00<?, ? examples/s]"
      ]
     },
     "metadata": {},
     "output_type": "display_data"
    },
    {
     "data": {
      "application/vnd.jupyter.widget-view+json": {
       "model_id": "c4542521e58c47a099f23023564451c8",
       "version_major": 2,
       "version_minor": 0
      },
      "text/plain": [
       "Map:   0%|          | 0/12 [00:00<?, ? examples/s]"
      ]
     },
     "metadata": {},
     "output_type": "display_data"
    },
    {
     "data": {
      "application/vnd.jupyter.widget-view+json": {
       "model_id": "75ccdc0531164ae9a3db7e076e2b465d",
       "version_major": 2,
       "version_minor": 0
      },
      "text/plain": [
       "Map:   0%|          | 0/49 [00:00<?, ? examples/s]"
      ]
     },
     "metadata": {},
     "output_type": "display_data"
    },
    {
     "name": "stderr",
     "output_type": "stream",
     "text": [
      "2025-09-14 17:27:35 - my_app - INFO - Datasets tokenized.\n",
      "Some weights of DistilBertForSequenceClassification were not initialized from the model checkpoint at distilbert-base-uncased and are newly initialized: ['classifier.bias', 'classifier.weight', 'pre_classifier.bias', 'pre_classifier.weight']\n",
      "You should probably TRAIN this model on a down-stream task to be able to use it for predictions and inference.\n",
      "2025-09-14 17:27:35 - my_app - INFO - Selected LoRA target modules: ['k_lin', 'q_lin', 'v_lin']\n",
      "2025-09-14 17:27:35 - my_app - INFO - Using weighted loss with class_weights: [1.7857142686843872, 0.6944444179534912]\n",
      "2025-09-14 17:27:35 - my_app - INFO - Starting tainning.\n",
      "/home/sandra/drug-review-sentiment/src/train_model.py:55: FutureWarning: `tokenizer` is deprecated and will be removed in version 5.0.0 for `WeightedLossTrainer.__init__`. Use `processing_class` instead.\n",
      "  super().__init__(*args, **kwargs)\n"
     ]
    },
    {
     "name": "stdout",
     "output_type": "stream",
     "text": [
      "trainable params: 813,314 || all params: 67,768,324 || trainable%: 1.2001\n"
     ]
    },
    {
     "name": "stderr",
     "output_type": "stream",
     "text": [
      "/home/sandra/drug-review-sentiment/.venv/lib/python3.12/site-packages/torch/utils/data/dataloader.py:666: UserWarning: 'pin_memory' argument is set as true but no accelerator is found, then device pinned memory won't be used.\n",
      "  warnings.warn(warn_msg)\n"
     ]
    },
    {
     "data": {
      "text/html": [
       "\n",
       "    <div>\n",
       "      \n",
       "      <progress value='4' max='4' style='width:300px; height:20px; vertical-align: middle;'></progress>\n",
       "      [4/4 00:10, Epoch 1/1]\n",
       "    </div>\n",
       "    <table border=\"1\" class=\"dataframe\">\n",
       "  <thead>\n",
       " <tr style=\"text-align: left;\">\n",
       "      <th>Step</th>\n",
       "      <th>Training Loss</th>\n",
       "      <th>Validation Loss</th>\n",
       "    </tr>\n",
       "  </thead>\n",
       "  <tbody>\n",
       "  </tbody>\n",
       "</table><p>"
      ],
      "text/plain": [
       "<IPython.core.display.HTML object>"
      ]
     },
     "metadata": {},
     "output_type": "display_data"
    },
    {
     "name": "stderr",
     "output_type": "stream",
     "text": [
      "/home/sandra/drug-review-sentiment/.venv/lib/python3.12/site-packages/torch/utils/data/dataloader.py:666: UserWarning: 'pin_memory' argument is set as true but no accelerator is found, then device pinned memory won't be used.\n",
      "  warnings.warn(warn_msg)\n"
     ]
    },
    {
     "data": {
      "text/html": [],
      "text/plain": [
       "<IPython.core.display.HTML object>"
      ]
     },
     "metadata": {},
     "output_type": "display_data"
    },
    {
     "name": "stderr",
     "output_type": "stream",
     "text": [
      "/home/sandra/drug-review-sentiment/.venv/lib/python3.12/site-packages/torch/utils/data/dataloader.py:666: UserWarning: 'pin_memory' argument is set as true but no accelerator is found, then device pinned memory won't be used.\n",
      "  warnings.warn(warn_msg)\n",
      "2025-09-14 17:27:57 - my_app - INFO - Done. Adapters at: results/outputs/distilbert-base-uncased-lora-128-weighted_loss-adapters\n"
     ]
    },
    {
     "data": {
      "image/png": "[encoded data removed]",
      "text/plain": [
       "<Figure size 640x480 with 2 Axes>"
      ]
     },
     "metadata": {},
     "output_type": "display_data"
    }
   ],
   "source": [
    "# Run training via Python API\n",
    "from src.train_model import train_model\n",
    "train_model(\n",
    "    model_name=model,\n",
    "    batch_size=batch_size,\n",
    "    num_train_epochs=epochs,\n",
    "    imbalance_strategy='weighted_loss',\n",
    "    fp16=fp16,\n",
    "    subset_frac=subset_frac,\n",
    "    use_tensorboard=True,\n",
    ")\n"
   ]
  },
  {
   "cell_type": "code",
   "execution_count": 6,
   "id": "2da9c6c7",
   "metadata": {},
   "outputs": [
    {
     "name": "stdout",
     "output_type": "stream",
     "text": [
      "Last 20 log lines:\n",
      "--- results/train_model.log (tail) ---\n"
     ]
    },
    {
     "data": {
      "image/png": "[encoded data removed]",
      "text/plain": [
       "<IPython.core.display.Image object>"
      ]
     },
     "metadata": {},
     "output_type": "display_data"
    },
    {
     "name": "stdout",
     "output_type": "stream",
     "text": [
      "Test metrics: {}\n"
     ]
    }
   ],
   "source": [
    "# Inspect outputs in results/\n",
    "import glob, os, json\n",
    "from IPython.display import Image, display\n",
    "\n",
    "# Show tail of log (pure Python for reliable output)\n",
    "print('Last 20 log lines:')\n",
    "try:\n",
    "    with open('results/train_model.log', 'r') as fh:\n",
    "        lines = fh.read().splitlines()\n",
    "        if not lines:\n",
    "            print('Log is empty.')\n",
    "        else:\n",
    "            print('--- results/train_model.log (tail) ---')\n",
    "            for line in lines[-20:]:\n",
    "                print(line)\n",
    "except FileNotFoundError:\n",
    "    print('No log yet: results/train_model.log not found.')\n",
    "except Exception as e:\n",
    "    print('Error reading log:', e)\n",
    "\n",
    "# Show latest confusion matrix\n",
    "cm_paths = sorted(glob.glob('results/outputs/*/cm.png'))\n",
    "if cm_paths:\n",
    "    display(Image(cm_paths[-1]))\n",
    "else:\n",
    "    print('No confusion matrix found yet.')\n",
    "\n",
    "# Read MLflow test metrics from results/mlruns (pick latest run that has test_* metrics)\n",
    "run_dirs = sorted(glob.glob('results/mlruns/*/*'))\n",
    "metrics = {}\n",
    "sel_run = None\n",
    "for rd in reversed(run_dirs):\n",
    "    if glob.glob(f'{rd}/metrics/test_*'):\n",
    "        sel_run = rd\n",
    "        break\n",
    "if sel_run:\n",
    "    for f in glob.glob(f'{sel_run}/metrics/test_*'):\n",
    "        with open(f) as fh:\n",
    "            t, v, step = fh.read().strip().split()\n",
    "            metrics[os.path.basename(f)] = float(v)\n",
    "    print('Run:', os.path.basename(sel_run))\n",
    "    print('Test metrics:', json.dumps(metrics, indent=2))\n",
    "else:\n",
    "    print('No MLflow run with test metrics found yet.')\n"
   ]
  },
  {
   "cell_type": "code",
   "execution_count": null,
   "id": "f68b8e0d",
   "metadata": {},
   "outputs": [],
   "source": []
  }
 ],
 "metadata": {
  "kernelspec": {
   "display_name": "Python 3",
   "language": "python",
   "name": "python3"
  },
  "language_info": {
   "name": "python"
  }
 },
 "nbformat": 4,
 "nbformat_minor": 5
}
