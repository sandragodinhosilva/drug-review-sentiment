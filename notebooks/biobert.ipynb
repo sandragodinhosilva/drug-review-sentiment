{
 "cells": [
  {
   "cell_type": "markdown",
   "id": "3775ecfe",
   "metadata": {},
   "source": [
    "## Drug Review Sentiment Classifier - LLM"
   ]
  },
  {
   "cell_type": "code",
   "execution_count": null,
   "id": "4e96ceb7",
   "metadata": {},
   "outputs": [
    {
     "name": "stderr",
     "output_type": "stream",
     "text": [
      "/home/sandra/drug-review-sentiment/.venv/lib/python3.12/site-packages/tqdm/auto.py:21: TqdmWarning: IProgress not found. Please update jupyter and ipywidgets. See https://ipywidgets.readthedocs.io/en/stable/user_install.html\n",
      "  from .autonotebook import tqdm as notebook_tqdm\n"
     ]
    }
   ],
   "source": [
    "# =============================\n",
    "# 1. Imports\n",
    "# =============================\n",
    "import pandas as pd\n",
    "import numpy as np\n",
    "import seaborn as sns\n",
    "import matplotlib.pyplot as plt\n",
    "import os\n",
    "import mlflow\n",
    "import optuna\n",
    "\n",
    "from datasets import Dataset, DatasetDict\n",
    "from transformers import AutoTokenizer, AutoModelForSequenceClassification\n",
    "from transformers import TrainingArguments, Trainer\n",
    "import evaluate\n",
    "\n",
    "from transformers import TrainingArguments\n",
    "import inspect\n",
    "\n",
    "print(\"Transformers version:\", transformers.__version__)\n",
    "print(inspect.signature(TrainingArguments.__init__))\n"
   ]
  },
  {
   "cell_type": "code",
   "execution_count": 2,
   "id": "ead39368",
   "metadata": {},
   "outputs": [],
   "source": [
    "# =============================\n",
    "# 1. Load data\n",
    "# =============================\n",
    "\n",
    "train = pd.read_csv(os.path.join(\"..\", \"data\", \"drugsComTrain_raw.tsv\"), sep=\"\\t\")\n",
    "test = pd.read_csv(os.path.join(\"..\", \"data\", \"drugsComTest_raw.tsv\"), sep=\"\\t\")\n",
    "\n",
    "\n",
    "def create_label(rating):\n",
    "    \"\"\"\n",
    "    Convert numeric rating (1 - 10) into binary label: 0 = negative, 1 = positive.\n",
    "    \"\"\"\n",
    "    return 1 if rating > 5 else 0\n",
    "\n",
    "train[\"sentiment\"] = train[\"rating\"].apply(create_label)\n",
    "test[\"sentiment\"]  = test[\"rating\"].apply(create_label)\n",
    "\n",
    "# Keep only required columns\n",
    "train = train[[\"review\", \"sentiment\"]]\n",
    "test  = test[[\"review\", \"sentiment\"]]\n",
    "\n",
    "# Convert to Hugging Face datasets\n",
    "train_ds = Dataset.from_pandas(train)\n",
    "test_ds  = Dataset.from_pandas(test)\n",
    "\n",
    "# Create DatasetDict\n",
    "dataset = DatasetDict({\n",
    "    \"train\": train_ds,\n",
    "    \"test\": test_ds\n",
    "})\n"
   ]
  },
  {
   "cell_type": "code",
   "execution_count": 3,
   "id": "2c07ef66",
   "metadata": {},
   "outputs": [
    {
     "name": "stdout",
     "output_type": "stream",
     "text": [
      "DatasetDict({\n",
      "    train: Dataset({\n",
      "        features: ['review', 'sentiment'],\n",
      "        num_rows: 161297\n",
      "    })\n",
      "    test: Dataset({\n",
      "        features: ['review', 'sentiment'],\n",
      "        num_rows: 53766\n",
      "    })\n",
      "})\n"
     ]
    }
   ],
   "source": [
    "print(dataset)"
   ]
  },
  {
   "cell_type": "code",
   "execution_count": 4,
   "id": "0f3631ba",
   "metadata": {},
   "outputs": [
    {
     "name": "stderr",
     "output_type": "stream",
     "text": [
      "Some weights of BertForSequenceClassification were not initialized from the model checkpoint at dmis-lab/biobert-base-cased-v1.1 and are newly initialized: ['classifier.bias', 'classifier.weight']\n",
      "You should probably TRAIN this model on a down-stream task to be able to use it for predictions and inference.\n"
     ]
    }
   ],
   "source": [
    "model_ckpt = \"dmis-lab/biobert-base-cased-v1.1\"\n",
    "tokenizer = AutoTokenizer.from_pretrained(model_ckpt)\n",
    "\n",
    "model = AutoModelForSequenceClassification.from_pretrained(model_ckpt, num_labels=2)"
   ]
  },
  {
   "cell_type": "code",
   "execution_count": 5,
   "id": "5edf28be",
   "metadata": {},
   "outputs": [
    {
     "name": "stderr",
     "output_type": "stream",
     "text": [
      "Map: 100%|██████████| 161297/161297 [00:26<00:00, 6115.34 examples/s]\n",
      "Map: 100%|██████████| 53766/53766 [00:08<00:00, 6142.24 examples/s]\n"
     ]
    }
   ],
   "source": [
    "# Preprocess Data\n",
    "def tokenize(batch):\n",
    "    return tokenizer(batch[\"review\"], truncation=True, padding=\"max_length\", max_length=256)\n",
    "\n",
    "tokenized = dataset.map(tokenize, batched=True)\n",
    "tokenized = tokenized.remove_columns([\"review\"])\n",
    "tokenized = tokenized.rename_column(\"sentiment\", \"labels\")\n",
    "tokenized.set_format(\"torch\")\n"
   ]
  },
  {
   "cell_type": "code",
   "execution_count": 9,
   "id": "71e39526",
   "metadata": {},
   "outputs": [],
   "source": [
    "# Training Setup\n",
    "accuracy = evaluate.load(\"accuracy\")\n",
    "f1 = evaluate.load(\"f1\")\n",
    "\n",
    "def compute_metrics(pred):\n",
    "    logits, labels = pred\n",
    "    preds = np.argmax(logits, axis=-1)\n",
    "    return {\n",
    "        \"accuracy\": accuracy.compute(predictions=preds, references=labels)[\"accuracy\"],\n",
    "        \"f1\": f1.compute(predictions=preds, references=labels)[\"f1\"]\n",
    "    }\n",
    "\n",
    "training_args = TrainingArguments(\n",
    "    output_dir=\"results/biobert\",\n",
    "\n",
    "    # Defines when to run evaluation (trainer.evaluate).   \n",
    "    # \"epoch\" → run evaluation at the end of every epoch. Alternatives: \"steps\" (every N steps) or \"no\".\n",
    "    eval_strategy=\"epoch\", \n",
    "\n",
    "    save_strategy=\"epoch\", # when to save checkpoints\n",
    "    learning_rate=2e-5, # Initial learning rate for AdamW optimizer.\n",
    "    per_device_train_batch_size=16,\n",
    "    per_device_eval_batch_size=16,\n",
    "    num_train_epochs=3, # Number of passes over the entire training dataset.\n",
    "    weight_decay=0.01, # Regularization: penalizes large weights in the optimizer.\n",
    "    load_best_model_at_end=True, # After training, reloads the best checkpoint (based on evaluation metric).\n",
    "    logging_dir=\"logs\", # Directory for logs (can be used with TensorBoard).\n",
    ")"
   ]
  },
  {
   "cell_type": "code",
   "execution_count": 10,
   "id": "0aa3d357",
   "metadata": {},
   "outputs": [
    {
     "name": "stderr",
     "output_type": "stream",
     "text": [
      "/home/sandra/drug-review-sentiment/.venv/lib/python3.12/site-packages/torch/utils/data/dataloader.py:666: UserWarning: 'pin_memory' argument is set as true but no accelerator is found, then device pinned memory won't be used.\n",
      "  warnings.warn(warn_msg)\n"
     ]
    },
    {
     "data": {
      "text/html": [
       "\n",
       "    <div>\n",
       "      \n",
       "      <progress value='5' max='30246' style='width:300px; height:20px; vertical-align: middle;'></progress>\n",
       "      [    5/30246 00:31 < 88:19:27, 0.10 it/s, Epoch 0.00/3]\n",
       "    </div>\n",
       "    <table border=\"1\" class=\"dataframe\">\n",
       "  <thead>\n",
       " <tr style=\"text-align: left;\">\n",
       "      <th>Epoch</th>\n",
       "      <th>Training Loss</th>\n",
       "      <th>Validation Loss</th>\n",
       "    </tr>\n",
       "  </thead>\n",
       "  <tbody>\n",
       "  </tbody>\n",
       "</table><p>"
      ],
      "text/plain": [
       "<IPython.core.display.HTML object>"
      ]
     },
     "metadata": {},
     "output_type": "display_data"
    },
    {
     "ename": "KeyboardInterrupt",
     "evalue": "",
     "output_type": "error",
     "traceback": [
      "\u001b[31m---------------------------------------------------------------------------\u001b[39m",
      "\u001b[31mKeyboardInterrupt\u001b[39m                         Traceback (most recent call last)",
      "\u001b[36mCell\u001b[39m\u001b[36m \u001b[39m\u001b[32mIn[10]\u001b[39m\u001b[32m, line 10\u001b[39m\n\u001b[32m      1\u001b[39m \u001b[38;5;66;03m# Train\u001b[39;00m\n\u001b[32m      2\u001b[39m trainer = Trainer(\n\u001b[32m      3\u001b[39m     model=model,\n\u001b[32m      4\u001b[39m     args=training_args,\n\u001b[32m   (...)\u001b[39m\u001b[32m      7\u001b[39m     compute_metrics=compute_metrics,\n\u001b[32m      8\u001b[39m )\n\u001b[32m---> \u001b[39m\u001b[32m10\u001b[39m \u001b[43mtrainer\u001b[49m\u001b[43m.\u001b[49m\u001b[43mtrain\u001b[49m\u001b[43m(\u001b[49m\u001b[43m)\u001b[49m\n\u001b[32m     12\u001b[39m \u001b[38;5;66;03m# Evaluate\u001b[39;00m\n\u001b[32m     13\u001b[39m results = trainer.evaluate()\n",
      "\u001b[36mFile \u001b[39m\u001b[32m~/drug-review-sentiment/.venv/lib/python3.12/site-packages/transformers/trainer.py:2328\u001b[39m, in \u001b[36mTrainer.train\u001b[39m\u001b[34m(self, resume_from_checkpoint, trial, ignore_keys_for_eval, **kwargs)\u001b[39m\n\u001b[32m   2326\u001b[39m         hf_hub_utils.enable_progress_bars()\n\u001b[32m   2327\u001b[39m \u001b[38;5;28;01melse\u001b[39;00m:\n\u001b[32m-> \u001b[39m\u001b[32m2328\u001b[39m     \u001b[38;5;28;01mreturn\u001b[39;00m \u001b[43minner_training_loop\u001b[49m\u001b[43m(\u001b[49m\n\u001b[32m   2329\u001b[39m \u001b[43m        \u001b[49m\u001b[43margs\u001b[49m\u001b[43m=\u001b[49m\u001b[43margs\u001b[49m\u001b[43m,\u001b[49m\n\u001b[32m   2330\u001b[39m \u001b[43m        \u001b[49m\u001b[43mresume_from_checkpoint\u001b[49m\u001b[43m=\u001b[49m\u001b[43mresume_from_checkpoint\u001b[49m\u001b[43m,\u001b[49m\n\u001b[32m   2331\u001b[39m \u001b[43m        \u001b[49m\u001b[43mtrial\u001b[49m\u001b[43m=\u001b[49m\u001b[43mtrial\u001b[49m\u001b[43m,\u001b[49m\n\u001b[32m   2332\u001b[39m \u001b[43m        \u001b[49m\u001b[43mignore_keys_for_eval\u001b[49m\u001b[43m=\u001b[49m\u001b[43mignore_keys_for_eval\u001b[49m\u001b[43m,\u001b[49m\n\u001b[32m   2333\u001b[39m \u001b[43m    \u001b[49m\u001b[43m)\u001b[49m\n",
      "\u001b[36mFile \u001b[39m\u001b[32m~/drug-review-sentiment/.venv/lib/python3.12/site-packages/transformers/trainer.py:2672\u001b[39m, in \u001b[36mTrainer._inner_training_loop\u001b[39m\u001b[34m(self, batch_size, args, resume_from_checkpoint, trial, ignore_keys_for_eval)\u001b[39m\n\u001b[32m   2665\u001b[39m context = (\n\u001b[32m   2666\u001b[39m     functools.partial(\u001b[38;5;28mself\u001b[39m.accelerator.no_sync, model=model)\n\u001b[32m   2667\u001b[39m     \u001b[38;5;28;01mif\u001b[39;00m i != \u001b[38;5;28mlen\u001b[39m(batch_samples) - \u001b[32m1\u001b[39m\n\u001b[32m   2668\u001b[39m     \u001b[38;5;129;01mand\u001b[39;00m \u001b[38;5;28mself\u001b[39m.accelerator.distributed_type != DistributedType.DEEPSPEED\n\u001b[32m   2669\u001b[39m     \u001b[38;5;28;01melse\u001b[39;00m contextlib.nullcontext\n\u001b[32m   2670\u001b[39m )\n\u001b[32m   2671\u001b[39m \u001b[38;5;28;01mwith\u001b[39;00m context():\n\u001b[32m-> \u001b[39m\u001b[32m2672\u001b[39m     tr_loss_step = \u001b[38;5;28;43mself\u001b[39;49m\u001b[43m.\u001b[49m\u001b[43mtraining_step\u001b[49m\u001b[43m(\u001b[49m\u001b[43mmodel\u001b[49m\u001b[43m,\u001b[49m\u001b[43m \u001b[49m\u001b[43minputs\u001b[49m\u001b[43m,\u001b[49m\u001b[43m \u001b[49m\u001b[43mnum_items_in_batch\u001b[49m\u001b[43m)\u001b[49m\n\u001b[32m   2674\u001b[39m \u001b[38;5;28;01mif\u001b[39;00m (\n\u001b[32m   2675\u001b[39m     args.logging_nan_inf_filter\n\u001b[32m   2676\u001b[39m     \u001b[38;5;129;01mand\u001b[39;00m \u001b[38;5;129;01mnot\u001b[39;00m is_torch_xla_available()\n\u001b[32m   2677\u001b[39m     \u001b[38;5;129;01mand\u001b[39;00m (torch.isnan(tr_loss_step) \u001b[38;5;129;01mor\u001b[39;00m torch.isinf(tr_loss_step))\n\u001b[32m   2678\u001b[39m ):\n\u001b[32m   2679\u001b[39m     \u001b[38;5;66;03m# if loss is nan or inf simply add the average of previous logged losses\u001b[39;00m\n\u001b[32m   2680\u001b[39m     tr_loss = tr_loss + tr_loss / (\u001b[32m1\u001b[39m + \u001b[38;5;28mself\u001b[39m.state.global_step - \u001b[38;5;28mself\u001b[39m._globalstep_last_logged)\n",
      "\u001b[36mFile \u001b[39m\u001b[32m~/drug-review-sentiment/.venv/lib/python3.12/site-packages/transformers/trainer.py:4060\u001b[39m, in \u001b[36mTrainer.training_step\u001b[39m\u001b[34m(***failed resolving arguments***)\u001b[39m\n\u001b[32m   4057\u001b[39m     \u001b[38;5;28;01mif\u001b[39;00m \u001b[38;5;28mself\u001b[39m.accelerator.distributed_type == DistributedType.DEEPSPEED:\n\u001b[32m   4058\u001b[39m         kwargs[\u001b[33m\"\u001b[39m\u001b[33mscale_wrt_gas\u001b[39m\u001b[33m\"\u001b[39m] = \u001b[38;5;28;01mFalse\u001b[39;00m\n\u001b[32m-> \u001b[39m\u001b[32m4060\u001b[39m     \u001b[38;5;28;43mself\u001b[39;49m\u001b[43m.\u001b[49m\u001b[43maccelerator\u001b[49m\u001b[43m.\u001b[49m\u001b[43mbackward\u001b[49m\u001b[43m(\u001b[49m\u001b[43mloss\u001b[49m\u001b[43m,\u001b[49m\u001b[43m \u001b[49m\u001b[43m*\u001b[49m\u001b[43m*\u001b[49m\u001b[43mkwargs\u001b[49m\u001b[43m)\u001b[49m\n\u001b[32m   4062\u001b[39m \u001b[38;5;28;01mreturn\u001b[39;00m loss.detach()\n",
      "\u001b[36mFile \u001b[39m\u001b[32m~/drug-review-sentiment/.venv/lib/python3.12/site-packages/accelerate/accelerator.py:2734\u001b[39m, in \u001b[36mAccelerator.backward\u001b[39m\u001b[34m(self, loss, **kwargs)\u001b[39m\n\u001b[32m   2732\u001b[39m     \u001b[38;5;28mself\u001b[39m.lomo_backward(loss, learning_rate)\n\u001b[32m   2733\u001b[39m \u001b[38;5;28;01melse\u001b[39;00m:\n\u001b[32m-> \u001b[39m\u001b[32m2734\u001b[39m     \u001b[43mloss\u001b[49m\u001b[43m.\u001b[49m\u001b[43mbackward\u001b[49m\u001b[43m(\u001b[49m\u001b[43m*\u001b[49m\u001b[43m*\u001b[49m\u001b[43mkwargs\u001b[49m\u001b[43m)\u001b[49m\n",
      "\u001b[36mFile \u001b[39m\u001b[32m~/drug-review-sentiment/.venv/lib/python3.12/site-packages/torch/_tensor.py:647\u001b[39m, in \u001b[36mTensor.backward\u001b[39m\u001b[34m(self, gradient, retain_graph, create_graph, inputs)\u001b[39m\n\u001b[32m    637\u001b[39m \u001b[38;5;28;01mif\u001b[39;00m has_torch_function_unary(\u001b[38;5;28mself\u001b[39m):\n\u001b[32m    638\u001b[39m     \u001b[38;5;28;01mreturn\u001b[39;00m handle_torch_function(\n\u001b[32m    639\u001b[39m         Tensor.backward,\n\u001b[32m    640\u001b[39m         (\u001b[38;5;28mself\u001b[39m,),\n\u001b[32m   (...)\u001b[39m\u001b[32m    645\u001b[39m         inputs=inputs,\n\u001b[32m    646\u001b[39m     )\n\u001b[32m--> \u001b[39m\u001b[32m647\u001b[39m \u001b[43mtorch\u001b[49m\u001b[43m.\u001b[49m\u001b[43mautograd\u001b[49m\u001b[43m.\u001b[49m\u001b[43mbackward\u001b[49m\u001b[43m(\u001b[49m\n\u001b[32m    648\u001b[39m \u001b[43m    \u001b[49m\u001b[38;5;28;43mself\u001b[39;49m\u001b[43m,\u001b[49m\u001b[43m \u001b[49m\u001b[43mgradient\u001b[49m\u001b[43m,\u001b[49m\u001b[43m \u001b[49m\u001b[43mretain_graph\u001b[49m\u001b[43m,\u001b[49m\u001b[43m \u001b[49m\u001b[43mcreate_graph\u001b[49m\u001b[43m,\u001b[49m\u001b[43m \u001b[49m\u001b[43minputs\u001b[49m\u001b[43m=\u001b[49m\u001b[43minputs\u001b[49m\n\u001b[32m    649\u001b[39m \u001b[43m\u001b[49m\u001b[43m)\u001b[49m\n",
      "\u001b[36mFile \u001b[39m\u001b[32m~/drug-review-sentiment/.venv/lib/python3.12/site-packages/torch/autograd/__init__.py:354\u001b[39m, in \u001b[36mbackward\u001b[39m\u001b[34m(tensors, grad_tensors, retain_graph, create_graph, grad_variables, inputs)\u001b[39m\n\u001b[32m    349\u001b[39m     retain_graph = create_graph\n\u001b[32m    351\u001b[39m \u001b[38;5;66;03m# The reason we repeat the same comment below is that\u001b[39;00m\n\u001b[32m    352\u001b[39m \u001b[38;5;66;03m# some Python versions print out the first line of a multi-line function\u001b[39;00m\n\u001b[32m    353\u001b[39m \u001b[38;5;66;03m# calls in the traceback and some print out the last line\u001b[39;00m\n\u001b[32m--> \u001b[39m\u001b[32m354\u001b[39m \u001b[43m_engine_run_backward\u001b[49m\u001b[43m(\u001b[49m\n\u001b[32m    355\u001b[39m \u001b[43m    \u001b[49m\u001b[43mtensors\u001b[49m\u001b[43m,\u001b[49m\n\u001b[32m    356\u001b[39m \u001b[43m    \u001b[49m\u001b[43mgrad_tensors_\u001b[49m\u001b[43m,\u001b[49m\n\u001b[32m    357\u001b[39m \u001b[43m    \u001b[49m\u001b[43mretain_graph\u001b[49m\u001b[43m,\u001b[49m\n\u001b[32m    358\u001b[39m \u001b[43m    \u001b[49m\u001b[43mcreate_graph\u001b[49m\u001b[43m,\u001b[49m\n\u001b[32m    359\u001b[39m \u001b[43m    \u001b[49m\u001b[43minputs_tuple\u001b[49m\u001b[43m,\u001b[49m\n\u001b[32m    360\u001b[39m \u001b[43m    \u001b[49m\u001b[43mallow_unreachable\u001b[49m\u001b[43m=\u001b[49m\u001b[38;5;28;43;01mTrue\u001b[39;49;00m\u001b[43m,\u001b[49m\n\u001b[32m    361\u001b[39m \u001b[43m    \u001b[49m\u001b[43maccumulate_grad\u001b[49m\u001b[43m=\u001b[49m\u001b[38;5;28;43;01mTrue\u001b[39;49;00m\u001b[43m,\u001b[49m\n\u001b[32m    362\u001b[39m \u001b[43m\u001b[49m\u001b[43m)\u001b[49m\n",
      "\u001b[36mFile \u001b[39m\u001b[32m~/drug-review-sentiment/.venv/lib/python3.12/site-packages/torch/autograd/graph.py:829\u001b[39m, in \u001b[36m_engine_run_backward\u001b[39m\u001b[34m(t_outputs, *args, **kwargs)\u001b[39m\n\u001b[32m    827\u001b[39m     unregister_hooks = _register_logging_hooks_on_whole_graph(t_outputs)\n\u001b[32m    828\u001b[39m \u001b[38;5;28;01mtry\u001b[39;00m:\n\u001b[32m--> \u001b[39m\u001b[32m829\u001b[39m     \u001b[38;5;28;01mreturn\u001b[39;00m \u001b[43mVariable\u001b[49m\u001b[43m.\u001b[49m\u001b[43m_execution_engine\u001b[49m\u001b[43m.\u001b[49m\u001b[43mrun_backward\u001b[49m\u001b[43m(\u001b[49m\u001b[43m  \u001b[49m\u001b[38;5;66;43;03m# Calls into the C++ engine to run the backward pass\u001b[39;49;00m\n\u001b[32m    830\u001b[39m \u001b[43m        \u001b[49m\u001b[43mt_outputs\u001b[49m\u001b[43m,\u001b[49m\u001b[43m \u001b[49m\u001b[43m*\u001b[49m\u001b[43margs\u001b[49m\u001b[43m,\u001b[49m\u001b[43m \u001b[49m\u001b[43m*\u001b[49m\u001b[43m*\u001b[49m\u001b[43mkwargs\u001b[49m\n\u001b[32m    831\u001b[39m \u001b[43m    \u001b[49m\u001b[43m)\u001b[49m  \u001b[38;5;66;03m# Calls into the C++ engine to run the backward pass\u001b[39;00m\n\u001b[32m    832\u001b[39m \u001b[38;5;28;01mfinally\u001b[39;00m:\n\u001b[32m    833\u001b[39m     \u001b[38;5;28;01mif\u001b[39;00m attach_logging_hooks:\n",
      "\u001b[31mKeyboardInterrupt\u001b[39m: "
     ]
    }
   ],
   "source": [
    "# Train\n",
    "trainer = Trainer(\n",
    "    model=model,\n",
    "    args=training_args,\n",
    "    train_dataset=tokenized[\"train\"],\n",
    "    eval_dataset=tokenized[\"test\"],\n",
    "    compute_metrics=compute_metrics,\n",
    ")\n",
    "\n",
    "trainer.train()\n",
    "\n",
    "# Evaluate\n",
    "results = trainer.evaluate()\n",
    "print(results)"
   ]
  },
  {
   "cell_type": "code",
   "execution_count": null,
   "id": "351dc784",
   "metadata": {},
   "outputs": [
    {
     "name": "stderr",
     "output_type": "stream",
     "text": [
      "\u001b[31m2025/09/11 22:31:28 WARNING mlflow.models.model: Model logged without a signature and input example. Please set `input_example` parameter when logging the model to auto infer the model signature.\u001b[0m\n"
     ]
    },
    {
     "name": "stdout",
     "output_type": "stream",
     "text": [
      "Accuracy: 0.8183, F1: 0.8626\n"
     ]
    },
    {
     "name": "stderr",
     "output_type": "stream",
     "text": [
      "Registered model 'DrugReviewSentiment' already exists. Creating a new version of this model...\n",
      "Created version '3' of model 'DrugReviewSentiment'.\n"
     ]
    },
    {
     "data": {
      "image/png": "[encoded data removed]",
      "text/plain": [
       "<Figure size 500x400 with 2 Axes>"
      ]
     },
     "metadata": {},
     "output_type": "display_data"
    }
   ],
   "source": [
    "# ========================================\n",
    "# 3. Build pipeline and run it with MLFlow\n",
    "# =======================================\n",
    "\n",
    "mlflow.set_experiment(\"drug-review-sentiment\")\n",
    "\n",
    "with mlflow.start_run(run_name=\"logreg_tfidf_baseline\"):\n",
    "\n",
    "    # Pipeline\n",
    "    pipeline = Pipeline([\n",
    "        (\"tfidf\", TfidfVectorizer(max_features=5000, ngram_range=(1,2), stop_words=\"english\")),\n",
    "        (\"clf\", LogisticRegression(max_iter=200, class_weight=\"balanced\", solver=\"liblinear\"))\n",
    "    ])\n",
    "\n",
    "    # Train\n",
    "    pipeline.fit(X_train, y_train)\n",
    "\n",
    "    # Predict\n",
    "    y_pred = pipeline.predict(X_test)\n",
    "\n",
    "    # Metrics\n",
    "    acc = accuracy_score(y_test, y_pred)\n",
    "    f1 = f1_score(y_test, y_pred)\n",
    "\n",
    "    # Log parameters\n",
    "    mlflow.log_param(\"max_features\", 5000)\n",
    "    mlflow.log_param(\"ngram_range\", (1,2))\n",
    "    mlflow.log_param(\"C\", pipeline.named_steps[\"clf\"].C)\n",
    "\n",
    "    # Log metrics\n",
    "    mlflow.log_metric(\"accuracy\", acc)\n",
    "    mlflow.log_metric(\"f1\", f1)\n",
    "\n",
    "    # Confusion Matrix\n",
    "    cm = confusion_matrix(y_test, y_pred)\n",
    "    plt.figure(figsize=(5,4))\n",
    "    sns.heatmap(cm, annot=True, fmt=\"d\", cmap=\"Blues\",\n",
    "                xticklabels=[\"Neg\", \"Pos\"], yticklabels=[\"Neg\", \"Pos\"])\n",
    "    plt.title(\"Confusion Matrix\")\n",
    "    plt.xlabel(\"Predicted\")\n",
    "    plt.ylabel(\"True\")\n",
    "    plt.savefig(\"confusion_matrix.png\")\n",
    "    mlflow.log_artifact(\"confusion_matrix.png\")\n",
    "\n",
    "    # Save model\n",
    "    mlflow.sklearn.log_model(pipeline, registered_model_name=\"DrugReviewSentiment\")\n",
    "\n",
    "    print(f\"Accuracy: {acc:.4f}, F1: {f1:.4f}\")"
   ]
  },
  {
   "cell_type": "code",
   "execution_count": null,
   "id": "e2d3b1a0",
   "metadata": {},
   "outputs": [
    {
     "name": "stderr",
     "output_type": "stream",
     "text": [
      "[I 2025-09-11 22:24:57,788] A new study created in memory with name: no-name-c7c247ad-d6ed-4aae-8e95-e2248b9440cc\n",
      "[I 2025-09-11 22:25:22,469] Trial 0 finished with value: 0.8216393016060891 and parameters: {'max_features': 5000, 'ngram_range': '(1,2)', 'C': 1.0}. Best is trial 0 with value: 0.8216393016060891.\n",
      "[I 2025-09-11 22:25:52,288] Trial 1 finished with value: 0.82099882992076 and parameters: {'max_features': 5000, 'ngram_range': '(1,2)', 'C': 3.595340162669966}. Best is trial 0 with value: 0.8216393016060891.\n",
      "[I 2025-09-11 22:26:16,235] Trial 2 finished with value: 0.7553205071385886 and parameters: {'max_features': 5000, 'ngram_range': '(1,2)', 'C': 0.0011945183652868913}. Best is trial 0 with value: 0.8216393016060891.\n",
      "[I 2025-09-11 22:27:00,900] Trial 3 finished with value: 0.7887126807345661 and parameters: {'max_features': 5000, 'ngram_range': '(1,3)', 'C': 0.017133616121588213}. Best is trial 0 with value: 0.8216393016060891.\n",
      "[I 2025-09-11 22:27:10,411] Trial 4 finished with value: 0.7715359184708429 and parameters: {'max_features': 5000, 'ngram_range': '(1,1)', 'C': 0.005680937606637813}. Best is trial 0 with value: 0.8216393016060891.\n",
      "[I 2025-09-11 22:27:22,486] Trial 5 finished with value: 0.8121214904320576 and parameters: {'max_features': 5000, 'ngram_range': '(1,1)', 'C': 0.36014626321524507}. Best is trial 0 with value: 0.8216393016060891.\n",
      "[I 2025-09-11 22:27:42,539] Trial 6 finished with value: 0.8230734451589481 and parameters: {'max_features': 15000, 'ngram_range': '(1,1)', 'C': 2.4185041751641876}. Best is trial 6 with value: 0.8230734451589481.\n",
      "[I 2025-09-11 22:28:08,037] Trial 7 finished with value: 0.8120037131916318 and parameters: {'max_features': 5000, 'ngram_range': '(1,2)', 'C': 0.13698301893614875}. Best is trial 6 with value: 0.8230734451589481.\n",
      "[I 2025-09-11 22:28:58,801] Trial 8 finished with value: 0.8324386364646064 and parameters: {'max_features': 10000, 'ngram_range': '(1,3)', 'C': 2.3397600527646043}. Best is trial 8 with value: 0.8324386364646064.\n",
      "[I 2025-09-11 22:29:40,992] Trial 9 finished with value: 0.8350085751640819 and parameters: {'max_features': 15000, 'ngram_range': '(1,2)', 'C': 92.99059302086661}. Best is trial 9 with value: 0.8350085751640819.\n"
     ]
    },
    {
     "name": "stdout",
     "output_type": "stream",
     "text": [
      "Best params: {'max_features': 15000, 'ngram_range': '(1,2)', 'C': 92.99059302086661}\n"
     ]
    },
    {
     "data": {
      "text/plain": [
       "<Figure size 640x480 with 0 Axes>"
      ]
     },
     "metadata": {},
     "output_type": "display_data"
    }
   ],
   "source": [
    "# ===========================================\n",
    "# Hyperpameter tunning\n",
    "# ===========================================\n",
    "\n",
    "def objective(trial):\n",
    "    \"\"\"\n",
    "    Log experiments for hyperameter tunning using MLFlow and Optuna - bayesian optimizer\n",
    "    \"\"\"\n",
    "    max_features = trial.suggest_int(\"max_features\", 5000, 20000, step=5000)\n",
    "    ngram_range_str = trial.suggest_categorical(\"ngram_range\", [\"(1,1)\", \"(1,2)\", \"(1,3)\"])\n",
    "    ngram_range = eval(ngram_range_str)  # safely parse into tuple\n",
    "    C = trial.suggest_float(\"C\", 1e-3, 1e2, log=True)\n",
    "\n",
    "    pipeline = Pipeline([\n",
    "        (\"tfidf\", TfidfVectorizer(max_features=max_features, ngram_range=ngram_range, stop_words=\"english\")),\n",
    "        (\"clf\", LogisticRegression(max_iter=200, class_weight=\"balanced\", solver=\"liblinear\", C=C))\n",
    "    ])\n",
    "\n",
    "    # Cross-validation (5-fold)\n",
    "    f1_scores = cross_val_score(pipeline, X_train, y_train,\n",
    "                                cv=5, scoring=\"f1_weighted\", n_jobs=-1)\n",
    "    mean_f1 = f1_scores.mean()\n",
    "\n",
    "\n",
    "    # log every trial to MLflow\n",
    "    with mlflow.start_run(nested=True):\n",
    "        mlflow.log_param(\"max_features\", max_features)\n",
    "        mlflow.log_param(\"ngram_range\", ngram_range)\n",
    "        mlflow.log_param(\"C\", C)\n",
    "        mlflow.log_metric(\"cv_f1\", mean_f1)\n",
    "\n",
    "        # Log confusion matrix\n",
    "        plt.savefig(\"confusion_matrix.png\")\n",
    "        mlflow.log_artifact(\"confusion_matrix.png\")\n",
    "\n",
    "    return mean_f1\n",
    "\n",
    "mlflow.set_experiment(\"drug-review-sentiment-optuna\")\n",
    "\n",
    "study = optuna.create_study(direction=\"maximize\",\n",
    "                            study_name=\"logreg_tfidf_f1cv\",)\n",
    "\n",
    "# Define baseline params\n",
    "baseline_params = {\n",
    "    \"max_features\": 5000,\n",
    "    \"ngram_range\": \"(1,2)\",  # keep as string if you used string encoding\n",
    "    \"C\": 1.0\n",
    "}\n",
    "# Enqueue baseline trial\n",
    "study.enqueue_trial(baseline_params)\n",
    "\n",
    "study.optimize(objective, n_trials=10)\n",
    "\n",
    "print(\"Best params:\", study.best_params)"
   ]
  },
  {
   "cell_type": "code",
   "execution_count": null,
   "id": "640e5638",
   "metadata": {},
   "outputs": [
    {
     "name": "stdout",
     "output_type": "stream",
     "text": [
      "Best Run ID: 0584e77470f949d495ee02e4437503d8\n",
      "Best Params: {'max_features': '5000', 'C': '0.013525523212128953', 'ngram_range': '(1, 3)'}\n",
      "Best Metrics: {'accuracy': 0.7829855298887773, 'f1': 0.8347730040499589}\n"
     ]
    }
   ],
   "source": [
    "client = mlflow.tracking.MlflowClient()\n",
    "experiment = client.get_experiment_by_name(\"drug-review-sentiment-optuna\")\n",
    "\n",
    "# Get all runs\n",
    "runs = client.search_runs(\n",
    "    experiment_ids=[experiment.experiment_id],\n",
    "    order_by=[\"metrics.f1 DESC\"],  # sort by best f1\n",
    "    max_results=1\n",
    ")\n",
    "\n",
    "best_run = runs[0]\n",
    "best_params = best_run.data.params\n",
    "\n",
    "print(\"Best Run ID:\", best_run.info.run_id)\n",
    "print(\"Best Params:\", best_params)\n",
    "print(\"Best Metrics:\", best_run.data.metrics)"
   ]
  },
  {
   "cell_type": "code",
   "execution_count": null,
   "id": "1e4d29d0",
   "metadata": {},
   "outputs": [
    {
     "name": "stderr",
     "output_type": "stream",
     "text": [
      "\u001b[31m2025/09/11 22:30:45 WARNING mlflow.models.model: Model logged without a signature and input example. Please set `input_example` parameter when logging the model to auto infer the model signature.\u001b[0m\n"
     ]
    },
    {
     "name": "stdout",
     "output_type": "stream",
     "text": [
      "✅ Best Model Logged! Accuracy=0.7830, F1=0.8348\n"
     ]
    },
    {
     "name": "stderr",
     "output_type": "stream",
     "text": [
      "Registered model 'DrugReviewSentiment' already exists. Creating a new version of this model...\n",
      "Created version '2' of model 'DrugReviewSentiment'.\n"
     ]
    },
    {
     "data": {
      "image/png": "[encoded data removed]",
      "text/plain": [
       "<Figure size 500x400 with 2 Axes>"
      ]
     },
     "metadata": {},
     "output_type": "display_data"
    }
   ],
   "source": [
    "# =============================\n",
    "# 4. Train Best Model\n",
    "# =============================\n",
    "ngram_range = eval(best_params[\"ngram_range\"])\n",
    "max_features = int(best_params[\"max_features\"])\n",
    "C = float(best_params[\"C\"])\n",
    "\n",
    "best_pipeline = Pipeline([\n",
    "    (\"tfidf\", TfidfVectorizer(max_features=max_features,\n",
    "                              ngram_range=ngram_range,\n",
    "                              stop_words=\"english\")),\n",
    "    (\"clf\", LogisticRegression(max_iter=200,\n",
    "                               class_weight=\"balanced\",\n",
    "                               solver=\"liblinear\",\n",
    "                               C=C))\n",
    "])\n",
    "\n",
    "best_pipeline.fit(X_train, y_train)\n",
    "y_pred = best_pipeline.predict(X_test)\n",
    "\n",
    "acc = accuracy_score(y_test, y_pred)\n",
    "f1 = f1_score(y_test, y_pred)\n",
    "\n",
    "# =============================\n",
    "# 5. Log Best Model to MLflow\n",
    "# =============================\n",
    "with mlflow.start_run(run_name=\"best_optuna_model\"):\n",
    "    mlflow.log_params(best_params)\n",
    "    mlflow.log_metric(\"accuracy\", acc)\n",
    "    mlflow.log_metric(\"f1\", f1)\n",
    "\n",
    "    # Confusion Matrix\n",
    "    cm = confusion_matrix(y_test, y_pred)\n",
    "    plt.figure(figsize=(5,4))\n",
    "    sns.heatmap(cm, annot=True, fmt=\"d\", cmap=\"Blues\",\n",
    "                xticklabels=[\"Neg\", \"Pos\"], yticklabels=[\"Neg\", \"Pos\"])\n",
    "    plt.title(\"Confusion Matrix - Best Optuna Model\")\n",
    "    plt.xlabel(\"Predicted\")\n",
    "    plt.ylabel(\"True\")\n",
    "    plt.savefig(\"confusion_matrix.png\")\n",
    "    mlflow.log_artifact(\"confusion_matrix.png\")\n",
    "\n",
    "    # Save Model\n",
    "    mlflow.sklearn.log_model(best_pipeline, name=\"model\",     \n",
    "                             registered_model_name=\"DrugReviewSentiment\")\n",
    "\n",
    "print(f\"✅ Best Model Logged! Accuracy={acc:.4f}, F1={f1:.4f}\")"
   ]
  },
  {
   "cell_type": "code",
   "execution_count": null,
   "id": "9f6450d2",
   "metadata": {},
   "outputs": [
    {
     "name": "stdout",
     "output_type": "stream",
     "text": [
      "✅ Exported MLflow runs to results/mlflow_runs.csv and results/mlflow_runs_raw.json\n"
     ]
    }
   ],
   "source": [
    "import os\n",
    "import pandas as pd\n",
    "from mlflow.tracking import MlflowClient\n",
    "\n",
    "# Ensure results folder exists\n",
    "os.makedirs(os.path.join(\"..\",\"results\"), exist_ok=True)\n",
    "\n",
    "# Get experiment\n",
    "client = MlflowClient()\n",
    "experiment = client.get_experiment_by_name(\"drug-review-sentiment-optuna\")\n",
    "\n",
    "# Fetch all runs\n",
    "runs = client.search_runs([experiment.experiment_id])\n",
    "\n",
    "# Convert to DataFrame\n",
    "runs_df = pd.DataFrame([{\n",
    "    \"run_id\": r.info.run_id,\n",
    "    \"status\": r.info.status,\n",
    "    \"params\": r.data.params,\n",
    "    \"metrics\": r.data.metrics\n",
    "} for r in runs])\n",
    "\n",
    "# Flatten params + metrics into columns\n",
    "def flatten_dict(d, prefix=\"\"):\n",
    "    return {f\"{prefix}{k}\": v for k, v in d.items()}\n",
    "\n",
    "records = []\n",
    "for r in runs:\n",
    "    row = {\n",
    "        \"run_id\": r.info.run_id,\n",
    "        \"status\": r.info.status\n",
    "    }\n",
    "    row.update(flatten_dict(r.data.params, \"param_\"))\n",
    "    row.update(flatten_dict(r.data.metrics, \"metric_\"))\n",
    "    records.append(row)\n",
    "\n",
    "flat_df = pd.DataFrame(records)\n",
    "\n",
    "# Save both raw + flat versions\n",
    "runs_df.to_json(os.path.join(\"..\",\"results\",\"mlflow_runs_raw.json\"), orient=\"records\", indent=2)\n",
    "flat_df.to_csv(os.path.join(\"..\",\"results\",\"mlflow_runs.csv\"), index=False)\n",
    "\n",
    "print(\"✅ Exported MLflow runs to results/mlflow_runs.csv and results/mlflow_runs_raw.json\")"
   ]
  },
  {
   "cell_type": "code",
   "execution_count": null,
   "id": "be56a3c1",
   "metadata": {},
   "outputs": [],
   "source": []
  }
 ],
 "metadata": {
  "kernelspec": {
   "display_name": ".venv",
   "language": "python",
   "name": "python3"
  },
  "language_info": {
   "codemirror_mode": {
    "name": "ipython",
    "version": 3
   },
   "file_extension": ".py",
   "mimetype": "text/x-python",
   "name": "python",
   "nbconvert_exporter": "python",
   "pygments_lexer": "ipython3",
   "version": "3.12.11"
  }
 },
 "nbformat": 4,
 "nbformat_minor": 5
}
