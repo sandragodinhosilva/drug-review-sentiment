{
 "cells": [
  {
   "cell_type": "code",
   "metadata": {},
   "execution_count": null,
   "outputs": [],
   "source": [
    "import os, sys, pathlib, mlflow\n",
    "# Auto-detect repo root: if launched from notebooks/, go one level up\n",
    "cwd = pathlib.Path().resolve()\n",
    "repo_root = cwd.parent if cwd.name == 'notebooks' else cwd\n",
    "os.chdir(repo_root)\n",
    "sys.path.insert(0, str(repo_root))\n",
    "print('CWD:', os.getcwd())\n",
    "os.makedirs('data', exist_ok=True)\n",
    "os.makedirs('results', exist_ok=True)\n",
    "# Ensure MLflow writes under results/mlruns regardless of where this notebook lives\n",
    "mlruns_path = os.path.abspath(os.path.join('results', 'mlruns'))\n",
    "os.makedirs(mlruns_path, exist_ok=True)\n",
    "mlflow_uri = f'file://{mlruns_path}'\n",
    "os.environ['MLFLOW_TRACKING_URI'] = mlflow_uri\n",
    "mlflow.set_tracking_uri(mlflow_uri)\n",
    "print('MLflow tracking URI:', mlflow.get_tracking_uri())\n"
   ]
  },
  {
   "cell_type": "code",
   "execution_count": 2,
   "id": "addf3601",
   "metadata": {},
   "outputs": [
    {
     "name": "stderr",
     "output_type": "stream",
     "text": [
      "Device set to use cpu\n"
     ]
    },
    {
     "name": "stdout",
     "output_type": "stream",
     "text": [
      "[{'label': 'POSITIVE', 'score': 0.9982494711875916}]\n"
     ]
    }
   ],
   "source": [
    "from transformers import pipeline\n",
    "\n",
    "sentiment = pipeline(\"sentiment-analysis\", model=\"distilbert-base-uncased-finetuned-sst-2-english\")\n",
    "print(sentiment(\"This medicine made me feel much better!\"))"
   ]
  },
  {
   "cell_type": "code",
   "execution_count": null,
   "id": "c3387de6",
   "metadata": {},
   "outputs": [],
   "source": [
    "from torchtext.data.utils import get_tokenizer\n",
    "\n",
    "tokenizer = get_tokenizer(\"basic_english\")\n",
    "tokens = tokenizer(\"This drug worked very well!\")\n",
    "print(tokens)"
   ]
  }
 ],
 "metadata": {
  "kernelspec": {
   "display_name": ".venv",
   "language": "python",
   "name": "python3"
  },
  "language_info": {
   "codemirror_mode": {
    "name": "ipython",
    "version": 3
   },
   "file_extension": ".py",
   "mimetype": "text/x-python",
   "name": "python",
   "nbconvert_exporter": "python",
   "pygments_lexer": "ipython3",
   "version": "3.12.11"
  }
 },
 "nbformat": 4,
 "nbformat_minor": 5
}